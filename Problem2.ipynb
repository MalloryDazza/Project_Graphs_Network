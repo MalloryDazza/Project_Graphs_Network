{
 "cells": [
  {
   "cell_type": "markdown",
   "metadata": {},
   "source": [
    "# Problem 2 : Emergence of the giant connected component\n",
    "\n",
    "\n",
    "The goal of the section is to investigate the possible phase transition of the considered graphs with respect to the existence of a giant connected component. Three main questions remain : \n",
    "* Is there a phase transition ?\n",
    "* If there is one,\n",
    "    * at which threshold $\\pi_c$ does it occurs ?\n",
    "    * is it a continuous phase transition ?\n",
    "\n",
    "The numerical results will be compared with theoretical ones. "
   ]
  },
  {
   "cell_type": "markdown",
   "metadata": {},
   "source": [
    "First we are going to need to determine the largest connected component in a graph : the networks module allow us to do it with the *connected_components( )* function. Let's try it ! "
   ]
  },
  {
   "cell_type": "code",
   "execution_count": 5,
   "metadata": {},
   "outputs": [],
   "source": [
    "import networkx as nx\n",
    "import matplotlib.pyplot as plt\n",
    "import random as rdm\n",
    "import numpy as np"
   ]
  },
  {
   "cell_type": "code",
   "execution_count": 68,
   "metadata": {},
   "outputs": [
    {
     "data": {
      "text/plain": [
       "[{1, 2, 3, 4, 5}, {'ours'}, {'lapin'}, {'2'}]"
      ]
     },
     "execution_count": 68,
     "metadata": {},
     "output_type": "execute_result"
    }
   ],
   "source": [
    "# Exemple of determination of the size of the largest connected component -cc- for specific graphs\n",
    "\n",
    "Gr = nx.Graph()\n",
    "Gr.add_edges_from([(1, 2), (1, 3), (2, 4), (1,5)])\n",
    "Gr.add_nodes_from([\"ours\", \"lapin\", \"2\"]) # the largest cc will be the one with the vertices as numbers\n",
    "\n",
    "list(nx.connected_components(Gr))"
   ]
  },
  {
   "cell_type": "code",
   "execution_count": 69,
   "metadata": {},
   "outputs": [
    {
     "data": {
      "text/plain": [
       "{1, 2, 3, 4, 5}"
      ]
     },
     "execution_count": 69,
     "metadata": {},
     "output_type": "execute_result"
    }
   ],
   "source": [
    "max(nx.connected_components(Gr),key=len) # we expect 1 2 3 4 5 as result"
   ]
  },
  {
   "cell_type": "code",
   "execution_count": 70,
   "metadata": {},
   "outputs": [
    {
     "data": {
      "text/plain": [
       "5"
      ]
     },
     "execution_count": 70,
     "metadata": {},
     "output_type": "execute_result"
    }
   ],
   "source": [
    "len(max(nx.connected_components(Gr),key=len)) # we expect 5 as result"
   ]
  },
  {
   "cell_type": "markdown",
   "metadata": {},
   "source": [
    "Now let's dig in theoretical work to see what one can expect.\n",
    "\n",
    "We call $q_d$ the probability to pick randomly an edge attached to a vertices of degree d : $$q_d = \\dfrac{4\\pi \\delta_{4d} + (1-\\pi)\\delta_{1d}}{1+3\\pi}$$\n",
    "And $\\Gamma$ the probability for an edge not to belonging to the giant connected component. \n",
    "\n",
    "Thus, $$ \\Gamma = q_1 + q_2 \\Gamma + q_3 \\Gamma^2 + q_4 \\Gamma^3 + \\space...$$ \n",
    "\n",
    "which gives the equation for gamma to be solved as a function of $\\pi$ : \n",
    "$$ \\Gamma^3 - \\dfrac{1+3\\pi}{4\\pi}\\Gamma + \\dfrac{1-\\pi}{4\\pi} = 0 $$\n",
    "\n",
    "$\\Gamma = 1$ is obviously a solution of this equation thus one can easily find the expansion : \n",
    "\n",
    "$$ \\left( \\Gamma-1 \\right) \\left( \\Gamma - \\dfrac{1-\\sqrt{\\pi}}{2\\sqrt{\\pi}} \\right) \\left( \\Gamma + \\dfrac{1+\\sqrt{\\pi}}{2\\sqrt{\\pi}} \\right) = 0$$\n",
    "\n",
    "And since $\\Gamma$ is a probability the only solution reads $\\Gamma(\\pi) = \\dfrac{1-\\sqrt{\\pi}}{2\\sqrt{\\pi}}$\n",
    "\n",
    "Let us now focus on vertices only : we call $\\beta$ the probability to belong to the giant connected component. $p_d$ is the probability for a given vertex to have a degree d : $p_d = \\pi \\delta_{4d} + (1-\\pi)\\delta_{1d}$.\n",
    "\n",
    "Thus, \n",
    "\n",
    "$$1-\\beta = p_1 \\Gamma + p_2 \\Gamma^2 + p_3 \\Gamma^3 + p_4 \\Gamma^4 + \\space ...$$\n",
    "\n",
    "which gives $\\beta$ as a function of $\\pi$ : \n",
    "\n",
    "$$\n",
    "\\begin{align}\n",
    "\\beta &= 1 - \\dfrac{\\left(1-\\sqrt{\\pi}\\right)\\left(1-\\pi\\right)}{2\\sqrt{\\pi}} - \\dfrac{\\left(1-\\sqrt{\\pi}\\right)^4}{16\\pi} \\\\\n",
    "      &= \\dfrac{-9\\pi^2 + 12\\pi^{3/2} + 18\\pi -4\\sqrt\\pi -1}{16\\pi}\n",
    "\\end{align}\n",
    "$$\n",
    "\n",
    "with the condition that the probability beta has to be positive and in [0,1] we find the critical value $\\pi_c = \\dfrac{1}{9}$. (There is here some calculation, setting $x=\\sqrt\\pi$ one can find a 4 degree polynom with \"obvious\" roots 1 and 1/3 and this gives the two possible solutions for $\\pi$ with the only one in [0,1] being the true threshold)\n",
    "\n",
    "In conclusion, we expect a phase transition between a system where no giant connected component exist for $\\pi < \\pi_c = \\frac{1}{9}$ and one where the giant connected component exist. Also, one expect the diagram to look like the function $\\beta$ with respect to $\\pi$. \n",
    "\n",
    "Let's see what the numerical similation gives us. \n",
    "\n",
    "We are going to determine the size of the largest connected component in different instances of graphs -here the value is fixed at 100- (generated with the method see in section 1) and average those results to draw the phase diagram.\n"
   ]
  },
  {
   "cell_type": "code",
   "execution_count": 6,
   "metadata": {},
   "outputs": [],
   "source": [
    "# Definition Degree Probability distribution\n",
    "def degree(pi_p):\n",
    "    if rdm.random() < (1-pi_p):\n",
    "        return 1\n",
    "    else:\n",
    "        return 4"
   ]
  },
  {
   "cell_type": "code",
   "execution_count": 10,
   "metadata": {},
   "outputs": [],
   "source": [
    "# definition of a function that will create the graph\n",
    "def Graph(N_p,pi_p):\n",
    "    c=False\n",
    "    while c==False:\n",
    "        K=[]\n",
    "        for i in range(N_p):\n",
    "            K.append(degree(pi_p)) #Creation of the list of all degrees\n",
    "        if sum(K)%2 == 0:\n",
    "            c=True\n",
    "    \n",
    "    Gr = nx.configuration_model(K)\n",
    "    return Gr"
   ]
  },
  {
   "cell_type": "code",
   "execution_count": 13,
   "metadata": {
    "collapsed": true
   },
   "outputs": [
    {
     "data": {
      "image/png": "[encoded data removed]",
      "text/plain": [
       "<matplotlib.figure.Figure at 0x108b5ca58>"
      ]
     },
     "metadata": {},
     "output_type": "display_data"
    }
   ],
   "source": [
    "# Determination of the phase diagram \n",
    "\n",
    "n = 101 # number of points in the phase diagram (value of pi) \n",
    "L_N = [10,100,1000,10000] # number of vertices in the graphs\n",
    "\n",
    "for N in L_N:\n",
    "    S = [] # Relative size of the giant c.c.\n",
    "    Pi = [] # keep track of the used pi values to plot the results\n",
    "    \n",
    "    for pi in [i/((n-1)) for i in range(n)]: # parameter of the degree distribution from [0,1] with step 1/n\n",
    "        s=[] # size of the giant cc for different realization of the same algorithm\n",
    "        Pi.append(pi)\n",
    "        \n",
    "        for q in range(10): # 100 realisations of the same algorithm to average the result\n",
    "            G = Graph(N,pi)\n",
    "            largest_cc = max(nx.connected_components(G), key=len)\n",
    "            s.append(len(largest_cc))\n",
    "            \n",
    "        S.append((sum(s)/10)/N)\n",
    "        \n",
    "    plt.plot(Pi,S,'.',label=str(N))\n",
    "plt.xlabel('$\\pi$')\n",
    "plt.ylabel('relative size of the g.c.c.')\n",
    "plt.legend()\n",
    "plt.savefig('Num_Phase_Diag.png')\n",
    "\n",
    "beta = []\n",
    "for pi in [i/((n-1)) for i in range(n)]:\n",
    "    if pi < 1/9:\n",
    "        beta.append(0)\n",
    "    else:\n",
    "        beta.append(1 - ((1-np.sqrt(pi))*(1-pi))/(2*np.sqrt(pi))-((1-np.sqrt(pi))**4)/(16*pi))\n",
    "        \n",
    "plt.plot(Pi,beta,label=\"Theory\")\n",
    "plt.legend()\n",
    "plt.savefig('NumSim_Theory.png')\n",
    "plt.show()"
   ]
  },
  {
   "cell_type": "markdown",
   "metadata": {},
   "source": [
    "The results are drawn here : ![Phase_Diag](NumPhase_Diag.png)\n",
    "\n",
    "One can make 3 comments : \n",
    "* as N grows all the numerical curves seem to approch a limit function\n",
    "* as N grows the fluctuations decreases. This is coherent with the well know statement that the relative fluctuations of any short range process is decreasing as $\\frac{1}{\\sqrt N}$\n",
    "* at low value of $\\pi$ and near the supposed transition one can see the effect of finite size systems : we do not see a sharp transition at a threshold value $\\pi_c$ but something smoother. \n",
    "\n",
    "Let's now compare it with the theoretical work close to the thermodynamical limit: ![NumSim_Theo](NumSim10000_Theory.png)\n",
    "\n",
    "This seems to fit perfectly :\n",
    "* the threshold value $\\pi_c$ is numerically close to $\\frac{1}{9}$ \n",
    "* the behavior of the curve (its derivative near $\\pi_c$ and $\\pi =1$) seem to confirm the theory."
   ]
  },
  {
   "cell_type": "code",
   "execution_count": null,
   "metadata": {},
   "outputs": [],
   "source": []
  }
 ],
 "metadata": {
  "kernelspec": {
   "display_name": "Python 3",
   "language": "python",
   "name": "python3"
  },
  "language_info": {
   "codemirror_mode": {
    "name": "ipython",
    "version": 3
   },
   "file_extension": ".py",
   "mimetype": "text/x-python",
   "name": "python",
   "nbconvert_exporter": "python",
   "pygments_lexer": "ipython3",
   "version": "3.6.2"
  }
 },
 "nbformat": 4,
 "nbformat_minor": 2
}
