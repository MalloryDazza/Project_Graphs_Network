{
 "cells": [
  {
   "cell_type": "markdown",
   "metadata": {},
   "source": [
    "# Problem 1 : Generation of Graph\n",
    "\n",
    "\n",
    "We are going to use the algorithm for generating random graphs of given degree distribution, thus we need a method to pick randomly numbers according to given distribution in order to build up the list of all degrees. Here it is simple since there are only two possible value. \n",
    "\n",
    "We define the function degree($\\pi$) that pick a 1 or 4 with probability $p_1$ or $p_4$ with the method of cumulants : if a random number picked with a uniform distribution is below $p_1 = 1-\\pi$ thus the function return 1 and 4 otherwise.\n",
    "\n",
    "Once the list, named K, of all degree is created, we can start the algorithm : \n",
    "* pick randomly two vertices (named v,w)\n",
    "* if it is possible to link them, link them \n",
    "\n",
    "We create L, the list of untreated vertices (once picked we know for sure that we can linked them) and we add a loop in order not to link the same vertex with itself. This add times to the computation since random numbers are picked but not use to build the graph. "
   ]
  },
  {
   "cell_type": "code",
   "execution_count": 1,
   "metadata": {},
   "outputs": [],
   "source": [
    "import matplotlib.pyplot as plt\n",
    "import random as rdm\n",
    "import networkx as nx"
   ]
  },
  {
   "cell_type": "code",
   "execution_count": 2,
   "metadata": {},
   "outputs": [],
   "source": [
    "#Degree Probability distribution\n",
    "def degree(pi_p):\n",
    "    if rdm.random() < (1-pi_p):\n",
    "        return 1\n",
    "    else:\n",
    "        return 4"
   ]
  },
  {
   "cell_type": "code",
   "execution_count": 3,
   "metadata": {},
   "outputs": [],
   "source": [
    "# Initialisation of different parameters\n",
    "# --------------------------------------\n",
    "# --------------------------------------\n",
    "\n",
    "N = 100 #number of vertices\n",
    "K = []\n",
    "pi = 0.5 #parameter of the degree distribution\n",
    "\n",
    "for i in range(N):\n",
    "    K.append(degree(pi)) #Creation of the list of all degrees\n",
    "\n",
    "# if sum(K)%2 == 1: # Can be added so that the total number of degree is\n",
    "#    if K[1] == 1:  # even : no single vetices\n",
    "#        K[1] = 4\n",
    "#    else:\n",
    "#        K[1] = 1\n",
    "        \n",
    "D = list(K) # keep the list in mind if one wants to re-use it\n",
    "G = nx.Graph()\n",
    "\n",
    "# Implementation of the algorithm for generating random graphs of given\n",
    "# Degre distribution \n",
    "\n",
    "L = [i for i in range(N) if K[i] > 0] \n",
    "while len(L) > 1:\n",
    "    v=rdm.choice(L) \n",
    "    w=rdm.choice(L)\n",
    "    if w != v:\n",
    "        G.add_edge(v,w) \n",
    "        K[v] -= 1\n",
    "        K[w] -= 1\n",
    "    L = [i for i in range(N) if K[i] > 0]\n",
    "    \n",
    "if len(L)==1: # we add the single node that can't be linked to any other node\n",
    "    G.add_node(L[0])"
   ]
  },
  {
   "cell_type": "markdown",
   "metadata": {},
   "source": [
    "Let's test if the graph is coherent with what we expect by seing all his vertices' degree (Note that you can change the value of $\\pi$ to extremal value 0 and 1 in order to check this two simple cases) :"
   ]
  },
  {
   "cell_type": "code",
   "execution_count": 5,
   "metadata": {},
   "outputs": [
    {
     "data": {
      "text/plain": [
       "DegreeView({78: 1, 37: 4, 88: 4, 40: 4, 99: 1, 34: 4, 19: 4, 36: 1, 57: 4, 56: 1, 26: 4, 76: 4, 7: 4, 9: 1, 46: 4, 0: 1, 28: 4, 70: 4, 35: 1, 13: 1, 89: 1, 95: 1, 11: 1, 74: 4, 60: 1, 91: 4, 71: 1, 58: 1, 27: 1, 17: 4, 87: 1, 45: 1, 10: 1, 68: 4, 63: 1, 82: 1, 6: 1, 73: 1, 20: 3, 90: 1, 50: 1, 14: 1, 75: 1, 3: 4, 67: 1, 15: 3, 33: 1, 85: 4, 52: 1, 42: 3, 25: 4, 54: 1, 32: 4, 49: 4, 77: 1, 53: 4, 5: 1, 16: 4, 97: 1, 98: 4, 23: 3, 24: 4, 43: 1, 66: 4, 21: 4, 44: 4, 12: 3, 84: 4, 1: 1, 41: 4, 93: 1, 80: 1, 69: 4, 18: 1, 65: 1, 47: 4, 61: 4, 62: 4, 94: 1, 72: 1, 30: 1, 39: 1, 2: 1, 83: 1, 59: 3, 86: 1, 64: 1, 92: 4, 4: 1, 55: 4, 29: 1, 31: 1, 22: 4, 81: 4, 38: 4, 96: 2, 79: 1, 48: 1, 51: 1, 8: 1})"
      ]
     },
     "execution_count": 5,
     "metadata": {},
     "output_type": "execute_result"
    }
   ],
   "source": [
    "G.degree()"
   ]
  }
 ],
 "metadata": {
  "kernelspec": {
   "display_name": "Python 3",
   "language": "python",
   "name": "python3"
  },
  "language_info": {
   "codemirror_mode": {
    "name": "ipython",
    "version": 3
   },
   "file_extension": ".py",
   "mimetype": "text/x-python",
   "name": "python",
   "nbconvert_exporter": "python",
   "pygments_lexer": "ipython3",
   "version": "3.6.2"
  }
 },
 "nbformat": 4,
 "nbformat_minor": 2
}
